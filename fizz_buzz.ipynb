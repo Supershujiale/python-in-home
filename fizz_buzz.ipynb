{
 "cells": [
  {
   "cell_type": "code",
   "execution_count": 3,
   "metadata": {},
   "outputs": [
    {
     "name": "stdout",
     "output_type": "stream",
     "text": [
      "1\n",
      "2\n",
      "fizz\n",
      "4\n",
      "buzz\n",
      "fizz\n",
      "7\n",
      "8\n",
      "fizz\n",
      "buzz\n",
      "11\n",
      "fizz\n",
      "13\n",
      "14\n",
      "fizzbuzz\n"
     ]
    }
   ],
   "source": [
    "def fizz_buzz_encode(i):\n",
    "    if i % 15 == 0:return 3\n",
    "    elif i % 5 == 0:return 2\n",
    "    elif i % 3 == 0:return 1\n",
    "    else:return 0\n",
    "\n",
    "\n",
    "def fizz_buzz_decode(i,prediction):\n",
    "    return [str(i),'fizz','buzz','fizzbuzz'][prediction]\n",
    "\n",
    "\n",
    "def helper(i):\n",
    "    print(fizz_buzz_decode(i,fizz_buzz_encode(i)))\n",
    "\n",
    "\n",
    "for i in range(1,16):\n",
    "    helper(i)"
   ]
  },
  {
   "cell_type": "code",
   "execution_count": 4,
   "metadata": {},
   "outputs": [],
   "source": [
    "import torch\n"
   ]
  },
  {
   "cell_type": "code",
   "execution_count": null,
   "metadata": {},
   "outputs": [],
   "source": []
  }
 ],
 "metadata": {
  "kernelspec": {
   "display_name": "Python 3",
   "language": "python",
   "name": "python3"
  },
  "language_info": {
   "codemirror_mode": {
    "name": "ipython",
    "version": 3
   },
   "file_extension": ".py",
   "mimetype": "text/x-python",
   "name": "python",
   "nbconvert_exporter": "python",
   "pygments_lexer": "ipython3",
   "version": "3.7.4"
  }
 },
 "nbformat": 4,
 "nbformat_minor": 2
}
